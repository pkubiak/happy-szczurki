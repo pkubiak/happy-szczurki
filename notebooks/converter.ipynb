{
 "cells": [
  {
   "cell_type": "code",
   "execution_count": 1,
   "metadata": {},
   "outputs": [],
   "source": [
    "import glob, os\n",
    "import pandas as pd\n",
    "import librosa\n",
    "import librosa.display\n",
    "import numpy as np\n",
    "import matplotlib.pyplot as plt\n",
    "import seaborn as sns\n",
    "import itertools\n",
    "from sklearn.preprocessing import StandardScaler"
   ]
  },
  {
   "cell_type": "code",
   "execution_count": 2,
   "metadata": {},
   "outputs": [],
   "source": [
    "DATA_INPUT_PATH = \"../data/orginal/\"\n",
    "DATA_OUTPUT_PATH = \"../data/converted/\""
   ]
  },
  {
   "cell_type": "code",
   "execution_count": 3,
   "metadata": {},
   "outputs": [],
   "source": [
    "def apply_begin_time(labels, offsets):\n",
    "    labels['Relative Begin Time (s)'] = labels.apply (\n",
    "        lambda row: row['Begin Time (s)'] - offsets[row['Begin File']],\n",
    "        axis=1)\n",
    "\n",
    "    labels['Relative End Time (s)'] = labels.apply (\n",
    "        lambda row: row['End Time (s)'] - offsets[row['Begin File']],\n",
    "        axis=1\n",
    "    )\n",
    "    \n",
    "    return labels\n",
    "\n",
    "    \n",
    "def count_offsets(wavs):\n",
    "    total_offset = 0.0\n",
    "    offsets = {}\n",
    "    for wav in wavs:\n",
    "        name = os.path.basename(wav)\n",
    "        duration = librosa.get_duration(filename=wav)\n",
    "#         print(f\"{name}: {total_offset:.4f}s\")\n",
    "        offsets[name] = total_offset\n",
    "        total_offset += duration\n",
    "    return offsets\n",
    "        \n",
    "    \n",
    "def reformat_labels(labels, wavs):\n",
    "    labels.loc[labels['USV TYPE'] == '22-kHz call', 'USV TYPE'] = '22kHz'\n",
    "    labels.loc[labels['USV TYPE'] == '22-kHz', 'USV TYPE'] = '22kHz'\n",
    "    \n",
    "    offsets = count_offsets(wavs)\n",
    "    labels = apply_begin_time(labels, offsets)\n",
    "    \n",
    "    return labels\n",
    "    \n",
    "\n",
    "def load_labels(input_path):\n",
    "    return pd.read_csv(input_path + 'dlaUJ_VPAmodel_koh3_tickling_20190328.txt', delimiter=\"\\t\", index_col='Selection')\n"
   ]
  },
  {
   "cell_type": "code",
   "execution_count": 4,
   "metadata": {
    "scrolled": false
   },
   "outputs": [],
   "source": [
    "from types import SimpleNamespace\n",
    "\n",
    "def freq_to_fft_bucket(freq, n_fft, sr):\n",
    "    return (n_fft//2 + 1) * freq / (sr / 2)\n",
    "\n",
    "def get_audio(path):\n",
    "    if path not in get_audio.cache:\n",
    "        get_audio.cache[path] = librosa.load(path, sr=None)\n",
    "    return get_audio.cache[path]\n",
    "get_audio.cache = {}\n",
    "\n",
    "def extract_audio_frames(audio_name, data, n_fft=512, hop_length=128, trim_frames=True, verbose=False, to_remove_pivot=-0.7):\n",
    "    audio_data, sr = get_audio(f\"{DATA_INPUT_PATH}/{audio_name}\")\n",
    "    \n",
    "    def t2f(time):\n",
    "        return librosa.core.time_to_frames(time, sr=sr, hop_length=hop_length, n_fft=n_fft)\n",
    "\n",
    "    stft = librosa.stft(audio_data, n_fft=n_fft, hop_length=hop_length)\n",
    "    stft = np.abs(np.moveaxis(stft, 0, -1))\n",
    "    \n",
    "    frames_labels = np.array([None]*stft.shape[0])\n",
    "    for idx, row in data[data['Begin File'] == audio_name].iterrows():\n",
    "        # WARNING: add some offset to range boundaries ???\n",
    "        \n",
    "        start = t2f(row['Relative Begin Time (s)'])\n",
    "        end = t2f(row['Relative End Time (s)'])\n",
    "        \n",
    "        low = int(freq_to_fft_bucket(row['Low Freq (Hz)'], n_fft=n_fft, sr=sr))\n",
    "        high = int(freq_to_fft_bucket(row['High Freq (Hz)'], n_fft=n_fft, sr=sr)) + 1\n",
    "        \n",
    "        start_zero = start\n",
    "        end_zero = end\n",
    "            \n",
    "        if trim_frames:\n",
    "            max_elem_in_kolumn = np.max(stft[start:end, low:high], axis=1)\n",
    "            normalized_max = (max_elem_in_kolumn - np.mean(max_elem_in_kolumn)) / np.std(max_elem_in_kolumn)\n",
    "\n",
    "            \n",
    "            while normalized_max[start - start_zero] < to_remove_pivot:\n",
    "                start += 1\n",
    "\n",
    "            while normalized_max[end - start_zero - 1] < to_remove_pivot:\n",
    "                end -= 1\n",
    "\n",
    "            if verbose:\n",
    "                sns.lineplot(range(start_zero, end_zero), max_elem_in_kolumn, label=\"max_elem_in_kolumn\")\n",
    "                sns.lineplot(range(start_zero, end_zero), normalized_max, label=\"normalized_max\")                                                                            \n",
    "                \n",
    "        if verbose:\n",
    "            plt.figure()\n",
    "            plt.imshow(stft[start_zero:end_zero, low:high].T)\n",
    "            plt.axvline(start - start_zero, color='red')\n",
    "            plt.axvline(end - start_zero, color='red')\n",
    "            plt.show()\n",
    "        \n",
    "        frames_labels[start:end] = row['USV TYPE']\n",
    "    \n",
    "    meta = dict(\n",
    "        audio_name=audio_name,\n",
    "        audio_length=audio_data.size,\n",
    "        n_fft=n_fft,\n",
    "        hop_length=hop_length,\n",
    "        sampling_rate=sr,\n",
    "        trim_frames=trim_frames,\n",
    "    )\n",
    "    \n",
    "    return SimpleNamespace(\n",
    "        X=stft, y=frames_labels, meta=meta\n",
    "    )"
   ]
  },
  {
   "cell_type": "code",
   "execution_count": null,
   "metadata": {
    "scrolled": true
   },
   "outputs": [],
   "source": [
    "for wav in wavs:\n",
    "    data = extract_audio_frames(os.path.basename(wav), labels)\n",
    "    np.savez(f\"{DATA_OUTPUT_PATH}{data.meta['audio_name']}.npz\", X=data.X, y=data.y, meta=data.meta)"
   ]
  },
  {
   "cell_type": "code",
   "execution_count": null,
   "metadata": {},
   "outputs": [],
   "source": []
  }
 ],
 "metadata": {
  "kernelspec": {
   "display_name": "Python 3",
   "language": "python",
   "name": "python3"
  },
  "language_info": {
   "codemirror_mode": {
    "name": "ipython",
    "version": 3
   },
   "file_extension": ".py",
   "mimetype": "text/x-python",
   "name": "python",
   "nbconvert_exporter": "python",
   "pygments_lexer": "ipython3",
   "version": "3.7.5"
  }
 },
 "nbformat": 4,
 "nbformat_minor": 2
}
